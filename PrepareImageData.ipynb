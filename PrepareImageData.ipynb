{
 "cells": [
  {
   "cell_type": "markdown",
   "metadata": {},
   "source": [
    "Code below places images into correct categories"
   ]
  },
  {
   "cell_type": "code",
   "execution_count": null,
   "metadata": {},
   "outputs": [],
   "source": [
    "import os\n",
    "import shutil\n",
    "image_path = 'celeba-dataset/img_align_celeba'\n",
    "image_folder = 'categories'\n",
    "\n",
    "images = os.listdir(image_path)\n",
    "try:\n",
    "    shutil.rmtree(image_folder)\n",
    "except:\n",
    "    pass\n",
    "\n",
    "for index, image in enumerate(images):\n",
    "    folder_name = image.split('.')[0]\n",
    "    new_folder_name = os.path.join(image_folder, folder_name)\n",
    "    os.makedirs(new_folder_name)\n",
    "    shutil.copyfile(os.path.join(image_path, image), os.path.join(new_folder_name, image))\n",
    "print('Done!')"
   ]
  },
  {
   "cell_type": "code",
   "execution_count": null,
   "metadata": {},
   "outputs": [],
   "source": []
  }
 ],
 "metadata": {
  "kernelspec": {
   "display_name": "Python 3",
   "language": "python",
   "name": "python3"
  },
  "language_info": {
   "codemirror_mode": {
    "name": "ipython",
    "version": 3
   },
   "file_extension": ".py",
   "mimetype": "text/x-python",
   "name": "python",
   "nbconvert_exporter": "python",
   "pygments_lexer": "ipython3",
   "version": "3.6.5rc1"
  }
 },
 "nbformat": 4,
 "nbformat_minor": 2
}
