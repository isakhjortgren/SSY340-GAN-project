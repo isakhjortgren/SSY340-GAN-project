{
 "cells": [
  {
   "cell_type": "markdown",
   "metadata": {},
   "source": [
    "Code below places images into correct categories"
   ]
  },
  {
   "cell_type": "code",
   "execution_count": null,
   "metadata": {},
   "outputs": [
    {
     "name": "stdout",
     "output_type": "stream",
     "text": [
      "Image: 0\n",
      "Image: 10000\n",
      "Image: 20000\n",
      "Image: 30000\n",
      "Image: 40000\n",
      "Image: 50000\n",
      "Image: 60000\n",
      "Image: 70000\n",
      "Image: 80000\n"
     ]
    }
   ],
   "source": [
    "import os\n",
    "import shutil\n",
    "image_path = 'celeba-dataset/img_align_celeba'\n",
    "image_folder = 'categories'\n",
    "\n",
    "images = os.listdir(image_path)\n",
    "try:\n",
    "    shutil.rmtree(image_folder)\n",
    "except:\n",
    "    pass\n",
    "\n",
    "for index, image in enumerate(images):\n",
    "    if index % 10000 == 0:\n",
    "        print('Image: %d' % index)\n",
    "    folder_name = image.split('.')[0]\n",
    "    new_folder_name = os.path.join(image_folder, folder_name)\n",
    "    os.makedirs(new_folder_name)\n",
    "    shutil.copyfile(os.path.join(image_path, image), os.path.join(new_folder_name, image))\n",
    "print('Done!')"
   ]
  },
  {
   "cell_type": "code",
   "execution_count": null,
   "metadata": {},
   "outputs": [],
   "source": []
  }
 ],
 "metadata": {
  "kernelspec": {
   "display_name": "Python 3",
   "language": "python",
   "name": "python3"
  },
  "language_info": {
   "codemirror_mode": {
    "name": "ipython",
    "version": 3
   },
   "file_extension": ".py",
   "mimetype": "text/x-python",
   "name": "python",
   "nbconvert_exporter": "python",
   "pygments_lexer": "ipython3",
   "version": "3.6.6"
  }
 },
 "nbformat": 4,
 "nbformat_minor": 2
}
