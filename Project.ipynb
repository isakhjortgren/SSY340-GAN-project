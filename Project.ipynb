{
 "cells": [
  {
   "cell_type": "code",
   "execution_count": 7,
   "metadata": {},
   "outputs": [],
   "source": [
    "import os\n",
    "import numpy as np\n",
    "import pandas as pd\n",
    "import keras\n",
    "import shutil"
   ]
  },
  {
   "cell_type": "code",
   "execution_count": 2,
   "metadata": {},
   "outputs": [],
   "source": [
    "image_path = 'celeba-dataset/img_align_celeba'\n",
    "attributes_path = 'celeba-dataset/list_attr_celeba.csv'"
   ]
  },
  {
   "cell_type": "markdown",
   "metadata": {},
   "source": [
    "### Load attribute data:"
   ]
  },
  {
   "cell_type": "code",
   "execution_count": 23,
   "metadata": {},
   "outputs": [
    {
     "data": {
      "text/plain": [
       "array(['image_id', '5_o_Clock_Shadow', 'Arched_Eyebrows', 'Attractive',\n",
       "       'Bags_Under_Eyes', 'Bald', 'Bangs', 'Big_Lips', 'Big_Nose',\n",
       "       'Black_Hair', 'Blond_Hair', 'Blurry', 'Brown_Hair',\n",
       "       'Bushy_Eyebrows', 'Chubby', 'Double_Chin', 'Eyeglasses', 'Goatee',\n",
       "       'Gray_Hair', 'Heavy_Makeup', 'High_Cheekbones', 'Male',\n",
       "       'Mouth_Slightly_Open', 'Mustache', 'Narrow_Eyes', 'No_Beard',\n",
       "       'Oval_Face', 'Pale_Skin', 'Pointy_Nose', 'Receding_Hairline',\n",
       "       'Rosy_Cheeks', 'Sideburns', 'Smiling', 'Straight_Hair',\n",
       "       'Wavy_Hair', 'Wearing_Earrings', 'Wearing_Hat', 'Wearing_Lipstick',\n",
       "       'Wearing_Necklace', 'Wearing_Necktie', 'Young'], dtype=object)"
      ]
     },
     "execution_count": 23,
     "metadata": {},
     "output_type": "execute_result"
    }
   ],
   "source": [
    "attributes_df = pd.read_csv(attributes_path)\n",
    "attributes_df.columns.values"
   ]
  },
  {
   "cell_type": "code",
   "execution_count": 40,
   "metadata": {},
   "outputs": [],
   "source": [
    "attributes_to_keep = ['image_id', '5_o_Clock_Shadow', 'Arched_Eyebrows', 'Attractive',\n",
    "       'Bags_Under_Eyes', 'Big_Lips', 'Big_Nose',\n",
    "       'Black_Hair', 'Blond_Hair', 'Brown_Hair',\n",
    "       'Bushy_Eyebrows', 'Goatee',\n",
    "       'Gray_Hair', 'Heavy_Makeup', 'High_Cheekbones', 'Male',\n",
    "       'Mouth_Slightly_Open', 'Mustache', 'Narrow_Eyes', 'No_Beard',\n",
    "       'Oval_Face', 'Pointy_Nose', 'Smiling', 'Straight_Hair',\n",
    "       'Wavy_Hair', 'Wearing_Earrings', 'Wearing_Lipstick',\n",
    "       'Wearing_Necklace', 'Young']\n",
    "attribute_data = attributes_df[attributes_to_keep]\n",
    "attribute_data = attribute_data.values[:,1:] # note that index starts with 0 and image id with 1!\n"
   ]
  },
  {
   "cell_type": "code",
   "execution_count": 39,
   "metadata": {},
   "outputs": [
    {
     "data": {
      "text/plain": [
       "array([['000001.jpg', -1, 1, ..., 1, -1, 1],\n",
       "       ['000002.jpg', -1, -1, ..., -1, -1, 1],\n",
       "       ['000003.jpg', -1, -1, ..., -1, -1, 1],\n",
       "       ...,\n",
       "       ['202597.jpg', -1, -1, ..., -1, -1, 1],\n",
       "       ['202598.jpg', -1, 1, ..., 1, -1, 1],\n",
       "       ['202599.jpg', -1, 1, ..., 1, -1, 1]], dtype=object)"
      ]
     },
     "execution_count": 39,
     "metadata": {},
     "output_type": "execute_result"
    }
   ],
   "source": [
    "attribute_data.values"
   ]
  },
  {
   "cell_type": "markdown",
   "metadata": {},
   "source": [
    "### Load image data:\n",
    "\n",
    "Code below places images into correct categories"
   ]
  },
  {
   "cell_type": "code",
   "execution_count": 12,
   "metadata": {},
   "outputs": [
    {
     "name": "stdout",
     "output_type": "stream",
     "text": [
      "0\n",
      "10000\n",
      "20000\n",
      "30000\n",
      "40000\n",
      "50000\n",
      "60000\n",
      "70000\n",
      "80000\n",
      "90000\n",
      "100000\n",
      "110000\n",
      "120000\n",
      "130000\n",
      "140000\n",
      "150000\n",
      "160000\n",
      "170000\n",
      "180000\n",
      "190000\n",
      "200000\n"
     ]
    }
   ],
   "source": [
    "images = os.listdir(image_path)\n",
    "image_folder = 'categories'\n",
    "shutil.rmtree(tmp_folder)\n",
    "for index, image in enumerate(images):\n",
    "    folder_name = image.split('.')[0]\n",
    "    new_folder_name = os.path.join(image_folder, folder_name)\n",
    "    os.makedirs(new_folder_name)\n",
    "    shutil.copyfile(os.path.join(image_path, image), os.path.join(new_folder_name, image))\n",
    "print('Done!')"
   ]
  },
  {
   "cell_type": "markdown",
   "metadata": {},
   "source": [
    "### Define data generators"
   ]
  },
  {
   "cell_type": "code",
   "execution_count": 15,
   "metadata": {},
   "outputs": [
    {
     "name": "stdout",
     "output_type": "stream",
     "text": [
      "Found 202599 images belonging to 202599 classes.\n"
     ]
    }
   ],
   "source": [
    "target_size = (128, 128)\n",
    "input_shape = (target_size[0], target_size[1], 3)\n",
    "batch_size = 64\n",
    "\n",
    "data_generator = keras.preprocessing.image.ImageDataGenerator(rescale = 1/255)\n",
    "\n",
    "train_generator = data_generator.flow_from_directory(image_folder, \n",
    "                                                     target_size=target_size, \n",
    "                                                     batch_size=batch_size)\n"
   ]
  },
  {
   "cell_type": "code",
   "execution_count": 50,
   "metadata": {},
   "outputs": [],
   "source": [
    "x, y = train_generator.next()\n",
    "y = np.argmax(y, axis = 1)"
   ]
  },
  {
   "cell_type": "code",
   "execution_count": 51,
   "metadata": {},
   "outputs": [
    {
     "data": {
      "text/plain": [
       "(64,)"
      ]
     },
     "execution_count": 51,
     "metadata": {},
     "output_type": "execute_result"
    }
   ],
   "source": [
    "y.shape"
   ]
  },
  {
   "cell_type": "code",
   "execution_count": 52,
   "metadata": {},
   "outputs": [
    {
     "data": {
      "text/plain": [
       "array([  4736, 171444, 180457, 116105,  18627, 116490, 196300,  22834,\n",
       "       109083, 128888,  85179, 197050,  24402,  45313,  68569,   8663,\n",
       "        96826, 168684, 131893,  47368, 164127,  70472,   3749,  17628,\n",
       "        16920,  35498,  22065,  35125, 141796,  16631, 114906,  74834,\n",
       "       140669,  36832, 171239, 150755, 112862, 101993, 101763,  18950,\n",
       "       152971,  10148,  47881, 154237,  94467, 146133,  32252, 138958,\n",
       "        98845,  14361,  46106, 154862, 144057,  99756,  98287,  18717,\n",
       "       167885, 151531, 114854,  98252, 137688, 193766,  17365,  18892])"
      ]
     },
     "execution_count": 52,
     "metadata": {},
     "output_type": "execute_result"
    }
   ],
   "source": [
    "y"
   ]
  },
  {
   "cell_type": "code",
   "execution_count": null,
   "metadata": {},
   "outputs": [],
   "source": []
  }
 ],
 "metadata": {
  "kernelspec": {
   "display_name": "Python 3",
   "language": "python",
   "name": "python3"
  },
  "language_info": {
   "codemirror_mode": {
    "name": "ipython",
    "version": 3
   },
   "file_extension": ".py",
   "mimetype": "text/x-python",
   "name": "python",
   "nbconvert_exporter": "python",
   "pygments_lexer": "ipython3",
   "version": "3.6.6"
  }
 },
 "nbformat": 4,
 "nbformat_minor": 2
}
