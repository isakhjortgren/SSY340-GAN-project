{
 "cells": [
  {
   "cell_type": "code",
   "execution_count": 2,
   "metadata": {},
   "outputs": [],
   "source": [
    "import os\n",
    "import numpy as np\n",
    "import pandas as pd\n",
    "import keras\n",
    "import shutil\n",
    "\n",
    "import matplotlib.pyplot as plt\n",
    "\n",
    "from keras.layers import Input, Dense, Reshape, Flatten, Dropout, BatchNormalization\n",
    "from keras.layers import Activation, ZeroPadding2D, Add, Concatenate\n",
    "\n",
    "from keras.layers.advanced_activations import LeakyReLU\n",
    "from keras.layers.convolutional import UpSampling2D, Conv2D\n",
    "from keras.models import Sequential, Model\n",
    "from keras.optimizers import Adam\n",
    "import keras.backend as K"
   ]
  },
  {
   "cell_type": "code",
   "execution_count": 3,
   "metadata": {},
   "outputs": [],
   "source": [
    "image_path = 'celeba-dataset/img_align_celeba'\n",
    "attributes_path = 'celeba-dataset/list_attr_celeba.csv'\n",
    "image_folder = 'categories'"
   ]
  },
  {
   "cell_type": "markdown",
   "metadata": {},
   "source": [
    "### Load attribute data:"
   ]
  },
  {
   "cell_type": "code",
   "execution_count": 4,
   "metadata": {},
   "outputs": [
    {
     "data": {
      "text/plain": [
       "array(['image_id', '5_o_Clock_Shadow', 'Arched_Eyebrows', 'Attractive',\n",
       "       'Bags_Under_Eyes', 'Bald', 'Bangs', 'Big_Lips', 'Big_Nose',\n",
       "       'Black_Hair', 'Blond_Hair', 'Blurry', 'Brown_Hair',\n",
       "       'Bushy_Eyebrows', 'Chubby', 'Double_Chin', 'Eyeglasses', 'Goatee',\n",
       "       'Gray_Hair', 'Heavy_Makeup', 'High_Cheekbones', 'Male',\n",
       "       'Mouth_Slightly_Open', 'Mustache', 'Narrow_Eyes', 'No_Beard',\n",
       "       'Oval_Face', 'Pale_Skin', 'Pointy_Nose', 'Receding_Hairline',\n",
       "       'Rosy_Cheeks', 'Sideburns', 'Smiling', 'Straight_Hair',\n",
       "       'Wavy_Hair', 'Wearing_Earrings', 'Wearing_Hat', 'Wearing_Lipstick',\n",
       "       'Wearing_Necklace', 'Wearing_Necktie', 'Young'], dtype=object)"
      ]
     },
     "execution_count": 4,
     "metadata": {},
     "output_type": "execute_result"
    }
   ],
   "source": [
    "attributes_df = pd.read_csv(attributes_path)\n",
    "attributes_df.columns.values"
   ]
  },
  {
   "cell_type": "code",
   "execution_count": 5,
   "metadata": {},
   "outputs": [],
   "source": [
    "attributes_to_keep = ['Black_Hair', 'Blond_Hair', 'Brown_Hair', 'Gray_Hair', 'Male']\n",
    "attribute_data = attributes_df[attributes_to_keep]\n",
    "attribute_data = attribute_data.values # note that index starts with 0 and image id with 1!\n"
   ]
  },
  {
   "cell_type": "markdown",
   "metadata": {},
   "source": [
    "### Load image data:\n",
    "\n"
   ]
  },
  {
   "cell_type": "markdown",
   "metadata": {},
   "source": [
    "### Define data generators"
   ]
  },
  {
   "cell_type": "code",
   "execution_count": 14,
   "metadata": {},
   "outputs": [
    {
     "ename": "KeyboardInterrupt",
     "evalue": "",
     "output_type": "error",
     "traceback": [
      "\u001b[0;31m---------------------------------------------------------------------------\u001b[0m",
      "\u001b[0;31mKeyboardInterrupt\u001b[0m                         Traceback (most recent call last)",
      "\u001b[0;32m<ipython-input-14-592e24390edb>\u001b[0m in \u001b[0;36m<module>\u001b[0;34m()\u001b[0m\n\u001b[1;32m      7\u001b[0m train_generator = data_generator.flow_from_directory(image_folder, \n\u001b[1;32m      8\u001b[0m                                                      \u001b[0mtarget_size\u001b[0m\u001b[0;34m=\u001b[0m\u001b[0mtarget_size\u001b[0m\u001b[0;34m,\u001b[0m\u001b[0;34m\u001b[0m\u001b[0m\n\u001b[0;32m----> 9\u001b[0;31m                                                      batch_size=batch_size)\n\u001b[0m",
      "\u001b[0;32m~/anaconda3/envs/dml_gpu/lib/python3.6/site-packages/keras_preprocessing/image.py\u001b[0m in \u001b[0;36mflow_from_directory\u001b[0;34m(self, directory, target_size, color_mode, classes, class_mode, batch_size, shuffle, seed, save_to_dir, save_prefix, save_format, follow_links, subset, interpolation)\u001b[0m\n\u001b[1;32m    962\u001b[0m             \u001b[0mfollow_links\u001b[0m\u001b[0;34m=\u001b[0m\u001b[0mfollow_links\u001b[0m\u001b[0;34m,\u001b[0m\u001b[0;34m\u001b[0m\u001b[0m\n\u001b[1;32m    963\u001b[0m             \u001b[0msubset\u001b[0m\u001b[0;34m=\u001b[0m\u001b[0msubset\u001b[0m\u001b[0;34m,\u001b[0m\u001b[0;34m\u001b[0m\u001b[0m\n\u001b[0;32m--> 964\u001b[0;31m             interpolation=interpolation)\n\u001b[0m\u001b[1;32m    965\u001b[0m \u001b[0;34m\u001b[0m\u001b[0m\n\u001b[1;32m    966\u001b[0m     \u001b[0;32mdef\u001b[0m \u001b[0mstandardize\u001b[0m\u001b[0;34m(\u001b[0m\u001b[0mself\u001b[0m\u001b[0;34m,\u001b[0m \u001b[0mx\u001b[0m\u001b[0;34m)\u001b[0m\u001b[0;34m:\u001b[0m\u001b[0;34m\u001b[0m\u001b[0m\n",
      "\u001b[0;32m~/anaconda3/envs/dml_gpu/lib/python3.6/site-packages/keras_preprocessing/image.py\u001b[0m in \u001b[0;36m__init__\u001b[0;34m(self, directory, image_data_generator, target_size, color_mode, classes, class_mode, batch_size, shuffle, seed, data_format, save_to_dir, save_prefix, save_format, follow_links, subset, interpolation)\u001b[0m\n\u001b[1;32m   1731\u001b[0m         self.samples = sum(pool.map(function_partial,\n\u001b[1;32m   1732\u001b[0m                                     (os.path.join(directory, subdir)\n\u001b[0;32m-> 1733\u001b[0;31m                                      for subdir in classes)))\n\u001b[0m\u001b[1;32m   1734\u001b[0m \u001b[0;34m\u001b[0m\u001b[0m\n\u001b[1;32m   1735\u001b[0m         print('Found %d images belonging to %d classes.' %\n",
      "\u001b[0;32m~/anaconda3/envs/dml_gpu/lib/python3.6/multiprocessing/pool.py\u001b[0m in \u001b[0;36mmap\u001b[0;34m(self, func, iterable, chunksize)\u001b[0m\n\u001b[1;32m    264\u001b[0m         \u001b[0;32min\u001b[0m \u001b[0ma\u001b[0m \u001b[0mlist\u001b[0m \u001b[0mthat\u001b[0m \u001b[0;32mis\u001b[0m \u001b[0mreturned\u001b[0m\u001b[0;34m.\u001b[0m\u001b[0;34m\u001b[0m\u001b[0m\n\u001b[1;32m    265\u001b[0m         '''\n\u001b[0;32m--> 266\u001b[0;31m         \u001b[0;32mreturn\u001b[0m \u001b[0mself\u001b[0m\u001b[0;34m.\u001b[0m\u001b[0m_map_async\u001b[0m\u001b[0;34m(\u001b[0m\u001b[0mfunc\u001b[0m\u001b[0;34m,\u001b[0m \u001b[0miterable\u001b[0m\u001b[0;34m,\u001b[0m \u001b[0mmapstar\u001b[0m\u001b[0;34m,\u001b[0m \u001b[0mchunksize\u001b[0m\u001b[0;34m)\u001b[0m\u001b[0;34m.\u001b[0m\u001b[0mget\u001b[0m\u001b[0;34m(\u001b[0m\u001b[0;34m)\u001b[0m\u001b[0;34m\u001b[0m\u001b[0m\n\u001b[0m\u001b[1;32m    267\u001b[0m \u001b[0;34m\u001b[0m\u001b[0m\n\u001b[1;32m    268\u001b[0m     \u001b[0;32mdef\u001b[0m \u001b[0mstarmap\u001b[0m\u001b[0;34m(\u001b[0m\u001b[0mself\u001b[0m\u001b[0;34m,\u001b[0m \u001b[0mfunc\u001b[0m\u001b[0;34m,\u001b[0m \u001b[0miterable\u001b[0m\u001b[0;34m,\u001b[0m \u001b[0mchunksize\u001b[0m\u001b[0;34m=\u001b[0m\u001b[0;32mNone\u001b[0m\u001b[0;34m)\u001b[0m\u001b[0;34m:\u001b[0m\u001b[0;34m\u001b[0m\u001b[0m\n",
      "\u001b[0;32m~/anaconda3/envs/dml_gpu/lib/python3.6/multiprocessing/pool.py\u001b[0m in \u001b[0;36mget\u001b[0;34m(self, timeout)\u001b[0m\n\u001b[1;32m    636\u001b[0m \u001b[0;34m\u001b[0m\u001b[0m\n\u001b[1;32m    637\u001b[0m     \u001b[0;32mdef\u001b[0m \u001b[0mget\u001b[0m\u001b[0;34m(\u001b[0m\u001b[0mself\u001b[0m\u001b[0;34m,\u001b[0m \u001b[0mtimeout\u001b[0m\u001b[0;34m=\u001b[0m\u001b[0;32mNone\u001b[0m\u001b[0;34m)\u001b[0m\u001b[0;34m:\u001b[0m\u001b[0;34m\u001b[0m\u001b[0m\n\u001b[0;32m--> 638\u001b[0;31m         \u001b[0mself\u001b[0m\u001b[0;34m.\u001b[0m\u001b[0mwait\u001b[0m\u001b[0;34m(\u001b[0m\u001b[0mtimeout\u001b[0m\u001b[0;34m)\u001b[0m\u001b[0;34m\u001b[0m\u001b[0m\n\u001b[0m\u001b[1;32m    639\u001b[0m         \u001b[0;32mif\u001b[0m \u001b[0;32mnot\u001b[0m \u001b[0mself\u001b[0m\u001b[0;34m.\u001b[0m\u001b[0mready\u001b[0m\u001b[0;34m(\u001b[0m\u001b[0;34m)\u001b[0m\u001b[0;34m:\u001b[0m\u001b[0;34m\u001b[0m\u001b[0m\n\u001b[1;32m    640\u001b[0m             \u001b[0;32mraise\u001b[0m \u001b[0mTimeoutError\u001b[0m\u001b[0;34m\u001b[0m\u001b[0m\n",
      "\u001b[0;32m~/anaconda3/envs/dml_gpu/lib/python3.6/multiprocessing/pool.py\u001b[0m in \u001b[0;36mwait\u001b[0;34m(self, timeout)\u001b[0m\n\u001b[1;32m    633\u001b[0m \u001b[0;34m\u001b[0m\u001b[0m\n\u001b[1;32m    634\u001b[0m     \u001b[0;32mdef\u001b[0m \u001b[0mwait\u001b[0m\u001b[0;34m(\u001b[0m\u001b[0mself\u001b[0m\u001b[0;34m,\u001b[0m \u001b[0mtimeout\u001b[0m\u001b[0;34m=\u001b[0m\u001b[0;32mNone\u001b[0m\u001b[0;34m)\u001b[0m\u001b[0;34m:\u001b[0m\u001b[0;34m\u001b[0m\u001b[0m\n\u001b[0;32m--> 635\u001b[0;31m         \u001b[0mself\u001b[0m\u001b[0;34m.\u001b[0m\u001b[0m_event\u001b[0m\u001b[0;34m.\u001b[0m\u001b[0mwait\u001b[0m\u001b[0;34m(\u001b[0m\u001b[0mtimeout\u001b[0m\u001b[0;34m)\u001b[0m\u001b[0;34m\u001b[0m\u001b[0m\n\u001b[0m\u001b[1;32m    636\u001b[0m \u001b[0;34m\u001b[0m\u001b[0m\n\u001b[1;32m    637\u001b[0m     \u001b[0;32mdef\u001b[0m \u001b[0mget\u001b[0m\u001b[0;34m(\u001b[0m\u001b[0mself\u001b[0m\u001b[0;34m,\u001b[0m \u001b[0mtimeout\u001b[0m\u001b[0;34m=\u001b[0m\u001b[0;32mNone\u001b[0m\u001b[0;34m)\u001b[0m\u001b[0;34m:\u001b[0m\u001b[0;34m\u001b[0m\u001b[0m\n",
      "\u001b[0;32m~/anaconda3/envs/dml_gpu/lib/python3.6/threading.py\u001b[0m in \u001b[0;36mwait\u001b[0;34m(self, timeout)\u001b[0m\n\u001b[1;32m    549\u001b[0m             \u001b[0msignaled\u001b[0m \u001b[0;34m=\u001b[0m \u001b[0mself\u001b[0m\u001b[0;34m.\u001b[0m\u001b[0m_flag\u001b[0m\u001b[0;34m\u001b[0m\u001b[0m\n\u001b[1;32m    550\u001b[0m             \u001b[0;32mif\u001b[0m \u001b[0;32mnot\u001b[0m \u001b[0msignaled\u001b[0m\u001b[0;34m:\u001b[0m\u001b[0;34m\u001b[0m\u001b[0m\n\u001b[0;32m--> 551\u001b[0;31m                 \u001b[0msignaled\u001b[0m \u001b[0;34m=\u001b[0m \u001b[0mself\u001b[0m\u001b[0;34m.\u001b[0m\u001b[0m_cond\u001b[0m\u001b[0;34m.\u001b[0m\u001b[0mwait\u001b[0m\u001b[0;34m(\u001b[0m\u001b[0mtimeout\u001b[0m\u001b[0;34m)\u001b[0m\u001b[0;34m\u001b[0m\u001b[0m\n\u001b[0m\u001b[1;32m    552\u001b[0m             \u001b[0;32mreturn\u001b[0m \u001b[0msignaled\u001b[0m\u001b[0;34m\u001b[0m\u001b[0m\n\u001b[1;32m    553\u001b[0m \u001b[0;34m\u001b[0m\u001b[0m\n",
      "\u001b[0;32m~/anaconda3/envs/dml_gpu/lib/python3.6/threading.py\u001b[0m in \u001b[0;36mwait\u001b[0;34m(self, timeout)\u001b[0m\n\u001b[1;32m    293\u001b[0m         \u001b[0;32mtry\u001b[0m\u001b[0;34m:\u001b[0m    \u001b[0;31m# restore state no matter what (e.g., KeyboardInterrupt)\u001b[0m\u001b[0;34m\u001b[0m\u001b[0m\n\u001b[1;32m    294\u001b[0m             \u001b[0;32mif\u001b[0m \u001b[0mtimeout\u001b[0m \u001b[0;32mis\u001b[0m \u001b[0;32mNone\u001b[0m\u001b[0;34m:\u001b[0m\u001b[0;34m\u001b[0m\u001b[0m\n\u001b[0;32m--> 295\u001b[0;31m                 \u001b[0mwaiter\u001b[0m\u001b[0;34m.\u001b[0m\u001b[0macquire\u001b[0m\u001b[0;34m(\u001b[0m\u001b[0;34m)\u001b[0m\u001b[0;34m\u001b[0m\u001b[0m\n\u001b[0m\u001b[1;32m    296\u001b[0m                 \u001b[0mgotit\u001b[0m \u001b[0;34m=\u001b[0m \u001b[0;32mTrue\u001b[0m\u001b[0;34m\u001b[0m\u001b[0m\n\u001b[1;32m    297\u001b[0m             \u001b[0;32melse\u001b[0m\u001b[0;34m:\u001b[0m\u001b[0;34m\u001b[0m\u001b[0m\n",
      "\u001b[0;31mKeyboardInterrupt\u001b[0m: "
     ]
    }
   ],
   "source": [
    "target_size = (128, 128)\n",
    "input_shape = (target_size[0], target_size[1], 3)\n",
    "batch_size = 16\n",
    "\n",
    "data_generator = keras.preprocessing.image.ImageDataGenerator(rescale = 1/255)\n",
    "\n",
    "train_generator = data_generator.flow_from_directory(image_folder, \n",
    "                                                     target_size=target_size, \n",
    "                                                     batch_size=batch_size)\n"
   ]
  },
  {
   "cell_type": "code",
   "execution_count": 15,
   "metadata": {},
   "outputs": [],
   "source": [
    "x, y = train_generator.next()\n",
    "y = np.argmax(y, axis = 1)"
   ]
  },
  {
   "cell_type": "code",
   "execution_count": 16,
   "metadata": {},
   "outputs": [
    {
     "data": {
      "text/plain": [
       "<matplotlib.image.AxesImage at 0x7ff2322f7080>"
      ]
     },
     "execution_count": 16,
     "metadata": {},
     "output_type": "execute_result"
    },
    {
     "data": {
      "image/png": "[encoded data removed]",
      "text/plain": [
       "<Figure size 432x288 with 1 Axes>"
      ]
     },
     "metadata": {},
     "output_type": "display_data"
    }
   ],
   "source": [
    "plt.imshow(x[10])"
   ]
  },
  {
   "cell_type": "markdown",
   "metadata": {},
   "source": [
    "## Define networks:\n"
   ]
  },
  {
   "cell_type": "markdown",
   "metadata": {},
   "source": [
    "### Parameters"
   ]
  },
  {
   "cell_type": "code",
   "execution_count": 13,
   "metadata": {},
   "outputs": [],
   "source": [
    "noise_size = 100\n",
    "epochs = 10\n",
    "save_interval = 1\n",
    "batch_size = 512\n",
    "#batches_per_epoch = train_generator.n // batch_size\n",
    "train_generator= None\n",
    "data_generator = None\n",
    "optimizer = Adam(0.0002, 0.5)\n",
    "batches_per_epoch = 5"
   ]
  },
  {
   "cell_type": "code",
   "execution_count": 7,
   "metadata": {},
   "outputs": [],
   "source": [
    "def wasserstein_loss(y_true, y_pred):\n",
    "    return K.mean(y_true*y_pred)"
   ]
  },
  {
   "cell_type": "markdown",
   "metadata": {},
   "source": [
    "### Generate models!"
   ]
  },
  {
   "cell_type": "code",
   "execution_count": 14,
   "metadata": {},
   "outputs": [],
   "source": [
    "noise_size = 100\n",
    "nbr_of_features = 5\n",
    "in_features = Input(shape=[nbr_of_features])\n",
    "noise_input = Input(shape=[noise_size])\n",
    "\n",
    "def generator_input_model(noise_size, nbr_input_features):\n",
    "    generator_input = Concatenate()([noise_input, in_features])\n",
    "    #generator_input = Input(shape=[latent_dim + nbr_input_features])\n",
    "    fc = Dense(16*16*3)(generator_input)\n",
    "    #fc = Dense(16*16*3, activation='sigmoid')(generator_input)\n",
    "    fc = LeakyReLU(alpha=0.2)(fc)\n",
    "    image = Reshape((16,16,3))(fc)\n",
    "    image = Conv2D(3, kernel_size=3, padding=\"same\")(image)\n",
    "    image = LeakyReLU(alpha=0.2)(image)\n",
    "    image = Conv2D(3, kernel_size=3, padding=\"same\")(image)\n",
    "    image = LeakyReLU(alpha=0.2)(image)\n",
    "    image = Conv2D(3, kernel_size=3, padding=\"same\")(image)\n",
    "    image = BatchNormalization()(image)\n",
    "    image = Activation('sigmoid')(image)\n",
    "    return Model([noise_input, in_features], image)\n",
    "\n",
    "def generator_conv_block(input_shape):\n",
    "    image_input = Input(shape=input_shape)\n",
    "    image = UpSampling2D()(image_input)\n",
    "    image = Conv2D(3, kernel_size=3, padding=\"same\")(image)\n",
    "    image = LeakyReLU(alpha=0.2)(image)\n",
    "    image = Conv2D(3, kernel_size=3, padding=\"same\")(image)\n",
    "    image = LeakyReLU(alpha=0.2)(image)\n",
    "    image = Conv2D(3, kernel_size=3, padding=\"same\")(image)\n",
    "    image = BatchNormalization()(image)\n",
    "    image = Activation('sigmoid')(image)\n",
    "    #image = LeakyReLU(alpha=0.2)(image)\n",
    "    return Model(image_input, image)\n",
    "\n",
    "def create_discriminator_classifier(nbr_input_features):\n",
    "    fc_size = (8*8*3 + nbr_input_features )// 2\n",
    "    image_input = Input(shape=(8,8,3))\n",
    "    image_flat = Flatten()(image_input)\n",
    "    \n",
    "    classifier_input = Concatenate()([image_flat, in_features])\n",
    "    \n",
    "    hidden = Dense(fc_size)(classifier_input)\n",
    "    hidden = LeakyReLU(alpha=0.2)(hidden)\n",
    "    out = Dense(1, activation='sigmoid')(hidden)\n",
    "    \n",
    "    return Model([image_input, in_features], out)\n",
    "\n",
    "def discriminator_conv_block(input_shape):\n",
    "    image_input = Input(shape=input_shape)\n",
    "    image = Conv2D(3, kernel_size=5, padding=\"same\")(image_input)\n",
    "    image = LeakyReLU(alpha=0.2)(image)\n",
    "    image = Conv2D(3, kernel_size=5, padding=\"same\")(image)\n",
    "    image = LeakyReLU(alpha=0.2)(image)\n",
    "    image = Conv2D(3, kernel_size=5, padding=\"same\", strides=2)(image)\n",
    "    image = BatchNormalization()(image)\n",
    "    image = LeakyReLU(alpha=0.2)(image)\n",
    "    return Model(image_input, image)\n",
    "\n",
    "\n",
    "def next_generator_model(previous_model):\n",
    "    new_block = generator_conv_block(previous_model.output_shape[1:])\n",
    "    #new_out = new_block(previous_model)\n",
    "    old_out = previous_model([noise_input, in_features])\n",
    "    new_out = new_block(old_out)\n",
    "    new_model = Model([noise_input, in_features], new_out)\n",
    "    return new_model\n",
    "\n",
    "def next_discriminator_cnn(previous_cnn_network):\n",
    "    previous_image_size = previous_cnn_network.input_shape[1]\n",
    "    input_shape = (previous_image_size*2, previous_image_size*2, 3)\n",
    "    new_block = discriminator_conv_block(input_shape)\n",
    "    new_cnn_model = Sequential()\n",
    "    new_cnn_model.add(new_block)\n",
    "    new_cnn_model.add(previous_cnn_network)\n",
    "    return new_cnn_model\n",
    "\n",
    "#discriminator = Model([in_image, in_features], discriminator_classifier([current_discriminator_cnn(in_image), in_features]))\n"
   ]
  },
  {
   "cell_type": "code",
   "execution_count": 20,
   "metadata": {},
   "outputs": [],
   "source": [
    "def plot_history(d_loss_hist, g_loss_hist):\n",
    "    \n",
    "    plt.figure()\n",
    "    plt.plot(d_loss_hist, label='Discriminator')\n",
    "    plt.plot(g_loss_hist, label='Generator')\n",
    "    plt.xlabel('Epochs')\n",
    "    plt.legend(loc='best')\n",
    "    plt.title('Loss over epochs')\n",
    "    \n",
    "feature_matrix = attribute_data[0:25,:]\n",
    "\n",
    "def numpy_rescaled(x):\n",
    "    out = x.copy()\n",
    "    out[x<0] = 0\n",
    "    out[x>1] = 1\n",
    "    return out\n",
    "\n",
    "def save_imgs(epoch, generator):\n",
    "    r, c = 5, 5\n",
    "    noise = np.random.normal(0, 1, (r * c, noise_size))\n",
    "    gen_imgs = generator.predict([noise, feature_matrix])\n",
    "\n",
    "    # Rescale images 0 - 1\n",
    "    gen_imgs = 0.5 * gen_imgs + 0.5\n",
    "\n",
    "    fig, axs = plt.subplots(r, c)\n",
    "    cnt = 0\n",
    "    for i in range(r):\n",
    "        for j in range(c):\n",
    "            axs[i,j].imshow(gen_imgs[cnt, :,:,:])\n",
    "            axs[i,j].axis('off')\n",
    "            cnt += 1\n",
    "    fig.savefig(\"images/celebA_%d.png\" % epoch)\n",
    "    plt.close()\n",
    "\n",
    "def train_gan(discriminator, generator, combined_model, epochs=10, batches_per_epoch=None):\n",
    "    if batches_per_epoch is None:\n",
    "        batches_per_epoch = train_generator.n // batch_size\n",
    "\n",
    "\n",
    "    d_loss_hist = list()\n",
    "    g_loss_hist = list()\n",
    "    for epoch in range(epochs):\n",
    "       \n",
    "        for i_batch in range(batches_per_epoch):\n",
    "        # Select a random batch of images\n",
    "            imgs, y = train_generator.next()\n",
    "            # one hot to feature\n",
    "            y = np.argmax(y, axis = 1)\n",
    "            input_features = attribute_data[y, :]\n",
    "            \n",
    "            b_size = imgs.shape[0]\n",
    "            valid = np.ones((b_size, 1))\n",
    "            fake = np.zeros((b_size, 1))\n",
    "\n",
    "            if i_batch%40 == 0:\n",
    "                print('Currently on batch: %d for epoch: %d' % (i_batch, epoch))\n",
    "\n",
    "            # Sample noise and generate a batch of new images\n",
    "            noise = np.random.normal(0, 1, (b_size, noise_size))\n",
    "            # Generator features\n",
    "            \n",
    "            gen_imgs = generator.predict([noise, input_features])\n",
    "            \n",
    "            # ---------------------\n",
    "            #  Train Discriminator\n",
    "            # ---------------------\n",
    "\n",
    "            # Train the discriminator (real classified as ones and generated as zeros)\n",
    "            d_loss_real = discriminator.train_on_batch([imgs, input_features], valid)\n",
    "            d_loss_fake = discriminator.train_on_batch([gen_imgs, input_features], fake)\n",
    "            d_loss = 0.5 * np.add(d_loss_real, d_loss_fake)\n",
    "\n",
    "            # ---------------------\n",
    "            #  Train Generator\n",
    "            # ---------------------\n",
    "\n",
    "            # Train the generator (wants discriminator to mistake images as real)\n",
    "            g_loss = combined_model.train_on_batch([noise, input_features], valid)\n",
    "\n",
    "        d_loss_hist.append(d_loss[0])\n",
    "        g_loss_hist.append(g_loss)\n",
    "        # Plot the progress\n",
    "        print (\"epoch: %d [D loss: %f, acc.: %.2f%%] [G loss: %f]\" % (epoch, d_loss[0], 100*d_loss[1], g_loss))\n",
    "\n",
    "        # If at save interval => save generated image samples\n",
    "        if epoch % save_interval == 0:\n",
    "            save_imgs(epoch, generator)\n",
    "    \n",
    "    return d_loss_hist, g_loss_hist"
   ]
  },
  {
   "cell_type": "markdown",
   "metadata": {},
   "source": [
    "## Step 1"
   ]
  },
  {
   "cell_type": "code",
   "execution_count": 15,
   "metadata": {},
   "outputs": [],
   "source": [
    "step = 1\n",
    "# First generator step\n",
    "current_generator_model = generator_input_model(noise_size, nbr_of_features)\n",
    "#current_generator_model.summary()\n",
    "\n",
    "# First Discriminator step, only classifier\n",
    "discriminator_classifier = create_discriminator_classifier(nbr_of_features)\n",
    "#discriminator_classifier.summary()\n",
    "\n",
    "current_discriminator_cnn = discriminator_conv_block((16, 16, 3))\n",
    "in_image = Input(shape=current_generator_model.output_shape[1:])\n",
    "discriminator = Model([in_image, in_features], discriminator_classifier([current_discriminator_cnn(in_image), in_features]))\n",
    "#discriminator.summary()\n",
    "\n"
   ]
  },
  {
   "cell_type": "markdown",
   "metadata": {},
   "source": [
    "\n",
    "Train step 1"
   ]
  },
  {
   "cell_type": "code",
   "execution_count": 16,
   "metadata": {},
   "outputs": [],
   "source": [
    "target_size = (16, 16)\n",
    "input_shape = (target_size[0], target_size[1], 3)\n",
    "\n",
    "def get_data_generators(image_size):\n",
    "    data_generator = keras.preprocessing.image.ImageDataGenerator(rescale = 1/255)\n",
    "\n",
    "    train_generator = data_generator.flow_from_directory(image_folder, \n",
    "                                                         target_size=(image_size, image_size), \n",
    "                                                         batch_size=batch_size)\n",
    "    return data_generator, train_generator\n"
   ]
  },
  {
   "cell_type": "code",
   "execution_count": 17,
   "metadata": {},
   "outputs": [],
   "source": [
    "discriminator.compile(loss='binary_crossentropy', \n",
    "                      optimizer=optimizer,\n",
    "                      metrics=['accuracy'])\n",
    "\n",
    "# The generator takes noise as input and generates imgs\n",
    "noise_input = Input(shape=[noise_size])\n",
    "img = current_generator_model([noise_input, in_features])\n",
    "\n",
    "# For the combined model we will only train the generator\n",
    "discriminator.trainable = False\n",
    "\n",
    "# The discriminator takes generated images as input and determines validity\n",
    "valid = discriminator([img, in_features])\n",
    "\n",
    "# The combined model  (stacked generator and discriminator)\n",
    "# Trains the generator to fool the discriminator\n",
    "combined = Model([noise_input, in_features], valid)\n",
    "combined.compile(loss='binary_crossentropy', optimizer=optimizer)"
   ]
  },
  {
   "cell_type": "code",
   "execution_count": 18,
   "metadata": {},
   "outputs": [
    {
     "name": "stdout",
     "output_type": "stream",
     "text": [
      "Found 202599 images belonging to 202599 classes.\n"
     ]
    }
   ],
   "source": [
    "data_generator, train_generator = get_data_generators(16)"
   ]
  },
  {
   "cell_type": "code",
   "execution_count": 21,
   "metadata": {
    "scrolled": true
   },
   "outputs": [
    {
     "name": "stdout",
     "output_type": "stream",
     "text": [
      "Currently on batch: 0 for epoch: 0\n"
     ]
    },
    {
     "name": "stderr",
     "output_type": "stream",
     "text": [
      "/home/student/anaconda3/envs/dml_gpu/lib/python3.6/site-packages/keras/engine/training.py:479: UserWarning: Discrepancy between trainable weights and collected trainable weights, did you set `model.trainable` without calling `model.compile` after ?\n",
      "  'Discrepancy between trainable weights and collected trainable'\n"
     ]
    },
    {
     "name": "stdout",
     "output_type": "stream",
     "text": [
      "epoch: 0 [D loss: 0.846887, acc.: 49.32%] [G loss: 0.392117]\n",
      "Currently on batch: 0 for epoch: 1\n",
      "epoch: 1 [D loss: 0.791954, acc.: 48.44%] [G loss: 0.507958]\n",
      "Currently on batch: 0 for epoch: 2\n",
      "epoch: 2 [D loss: 0.793769, acc.: 42.68%] [G loss: 0.543809]\n",
      "Currently on batch: 0 for epoch: 3\n",
      "epoch: 3 [D loss: 0.775456, acc.: 42.97%] [G loss: 0.590698]\n",
      "Currently on batch: 0 for epoch: 4\n",
      "epoch: 4 [D loss: 0.763226, acc.: 45.12%] [G loss: 0.641415]\n",
      "Currently on batch: 0 for epoch: 5\n",
      "epoch: 5 [D loss: 0.717935, acc.: 50.10%] [G loss: 0.706335]\n",
      "Currently on batch: 0 for epoch: 6\n",
      "epoch: 6 [D loss: 0.695726, acc.: 53.91%] [G loss: 0.770683]\n",
      "Currently on batch: 0 for epoch: 7\n",
      "epoch: 7 [D loss: 0.661946, acc.: 60.06%] [G loss: 0.827848]\n",
      "Currently on batch: 0 for epoch: 8\n",
      "epoch: 8 [D loss: 0.631040, acc.: 65.14%] [G loss: 0.872002]\n",
      "Currently on batch: 0 for epoch: 9\n",
      "epoch: 9 [D loss: 0.625866, acc.: 65.82%] [G loss: 0.888485]\n"
     ]
    },
    {
     "data": {
      "image/png": "[encoded data removed]",
      "text/plain": [
       "<Figure size 432x288 with 1 Axes>"
      ]
     },
     "metadata": {},
     "output_type": "display_data"
    }
   ],
   "source": [
    "d_loss_hist, g_loss_hist = train_gan(discriminator, current_generator_model, combined, epochs=epochs, batches_per_epoch=batches_per_epoch)\n",
    "plot_history(d_loss_hist, g_loss_hist)"
   ]
  },
  {
   "cell_type": "markdown",
   "metadata": {},
   "source": [
    "Save the models from step 1"
   ]
  },
  {
   "cell_type": "code",
   "execution_count": 22,
   "metadata": {},
   "outputs": [],
   "source": [
    "current_generator_model.save('generator_model_step%d.h5' %step)\n",
    "discriminator_classifier.save('discriminator_classifier_step%d.h5' %step)\n",
    "current_discriminator_cnn.save('current_discriminator_cnn_step%d.h5' %step)"
   ]
  },
  {
   "cell_type": "markdown",
   "metadata": {},
   "source": [
    "# Step 2, 3, ....."
   ]
  },
  {
   "cell_type": "code",
   "execution_count": 23,
   "metadata": {},
   "outputs": [],
   "source": [
    "step += 1\n",
    "# Generator step  \n",
    "current_generator_model.trainable = False\n",
    "previous_generator_model = current_generator_model \n",
    "current_generator_model = next_generator_model(previous_generator_model)\n",
    "\n",
    "# Discriminator step\n",
    "in_image = Input(shape=current_generator_model.output_shape[1:]) # Input size should be equal to generator output size\n",
    "previous_discriminator_cnn = current_discriminator_cnn # Save old cnn\n",
    "current_discriminator_cnn = next_discriminator_cnn(previous_discriminator_cnn)\n",
    "# Put the discriminator together\n",
    "discriminator = Model([in_image, in_features], discriminator_classifier([current_discriminator_cnn(in_image), in_features]))\n"
   ]
  },
  {
   "cell_type": "code",
   "execution_count": 24,
   "metadata": {},
   "outputs": [
    {
     "name": "stdout",
     "output_type": "stream",
     "text": [
      "__________________________________________________________________________________________________\n",
      "Layer (type)                    Output Shape         Param #     Connected to                     \n",
      "==================================================================================================\n",
      "input_12 (InputLayer)           (None, 100)          0                                            \n",
      "__________________________________________________________________________________________________\n",
      "input_7 (InputLayer)            (None, 5)            0                                            \n",
      "__________________________________________________________________________________________________\n",
      "model_6 (Model)                 (None, 16, 16, 3)    81672       input_12[0][0]                   \n",
      "                                                                 input_7[0][0]                    \n",
      "__________________________________________________________________________________________________\n",
      "model_11 (Model)                (None, 32, 32, 3)    264         model_6[2][0]                    \n",
      "==================================================================================================\n",
      "Total params: 81,936\n",
      "Trainable params: 258\n",
      "Non-trainable params: 81,678\n",
      "__________________________________________________________________________________________________\n"
     ]
    }
   ],
   "source": [
    "current_generator_model.summary()"
   ]
  },
  {
   "cell_type": "code",
   "execution_count": 25,
   "metadata": {},
   "outputs": [
    {
     "name": "stdout",
     "output_type": "stream",
     "text": [
      "Found 202599 images belonging to 202599 classes.\n"
     ]
    }
   ],
   "source": [
    "data_generator, train_generator = get_data_generators(current_generator_model.output_shape[1])"
   ]
  },
  {
   "cell_type": "code",
   "execution_count": 26,
   "metadata": {},
   "outputs": [],
   "source": [
    "discriminator.compile(loss='binary_crossentropy', \n",
    "                      optimizer=optimizer,\n",
    "                      metrics=['accuracy'])\n",
    "\n",
    "# The generator takes noise as input and generates imgs\n",
    "#noise_input = Input(shape=[noise_size])\n",
    "img = current_generator_model([noise_input, in_features])\n",
    "\n",
    "# For the combined model we will only train the generator\n",
    "discriminator.trainable = False\n",
    "\n",
    "# The discriminator takes generated images as input and determines validity\n",
    "valid = discriminator([img, in_features])\n",
    "\n",
    "# The combined model  (stacked generator and discriminator)\n",
    "# Trains the generator to fool the discriminator\n",
    "combined = Model([noise_input, in_features], valid)\n",
    "combined.compile(loss='binary_crossentropy', optimizer=optimizer)"
   ]
  },
  {
   "cell_type": "code",
   "execution_count": null,
   "metadata": {},
   "outputs": [
    {
     "name": "stdout",
     "output_type": "stream",
     "text": [
      "Currently on batch: 0 for epoch: 0\n"
     ]
    },
    {
     "name": "stderr",
     "output_type": "stream",
     "text": [
      "/home/student/anaconda3/envs/dml_gpu/lib/python3.6/site-packages/keras/engine/training.py:479: UserWarning: Discrepancy between trainable weights and collected trainable weights, did you set `model.trainable` without calling `model.compile` after ?\n",
      "  'Discrepancy between trainable weights and collected trainable'\n"
     ]
    },
    {
     "name": "stdout",
     "output_type": "stream",
     "text": [
      "epoch: 0 [D loss: 0.626418, acc.: 63.77%] [G loss: 0.964984]\n",
      "Currently on batch: 0 for epoch: 1\n",
      "epoch: 1 [D loss: 0.420187, acc.: 84.47%] [G loss: 1.242720]\n",
      "Currently on batch: 0 for epoch: 2\n",
      "epoch: 2 [D loss: 0.341948, acc.: 89.06%] [G loss: 1.509195]\n",
      "Currently on batch: 0 for epoch: 3\n",
      "epoch: 3 [D loss: 0.284640, acc.: 92.19%] [G loss: 1.692387]\n",
      "Currently on batch: 0 for epoch: 4\n",
      "epoch: 4 [D loss: 0.255456, acc.: 92.58%] [G loss: 1.824259]\n",
      "Currently on batch: 0 for epoch: 5\n",
      "epoch: 5 [D loss: 0.245221, acc.: 92.97%] [G loss: 1.900806]\n",
      "Currently on batch: 0 for epoch: 6\n",
      "epoch: 6 [D loss: 0.230529, acc.: 93.65%] [G loss: 2.071171]\n",
      "Currently on batch: 0 for epoch: 7\n",
      "epoch: 7 [D loss: 0.202123, acc.: 94.43%] [G loss: 2.198757]\n",
      "Currently on batch: 0 for epoch: 8\n",
      "epoch: 8 [D loss: 0.204696, acc.: 93.65%] [G loss: 2.387258]\n",
      "Currently on batch: 0 for epoch: 9\n"
     ]
    }
   ],
   "source": [
    "d_loss_hist, g_loss_hist = train_gan(discriminator, current_generator_model, combined, epochs=epochs, batches_per_epoch=batches_per_epoch)\n",
    "plot_history(d_loss_hist, g_loss_hist)"
   ]
  },
  {
   "cell_type": "code",
   "execution_count": 32,
   "metadata": {},
   "outputs": [
    {
     "name": "stdout",
     "output_type": "stream",
     "text": [
      "__________________________________________________________________________________________________\n",
      "Layer (type)                    Output Shape         Param #     Connected to                     \n",
      "==================================================================================================\n",
      "input_5 (InputLayer)            (None, 100)          0                                            \n",
      "__________________________________________________________________________________________________\n",
      "input_1 (InputLayer)            (None, 5)            0                                            \n",
      "__________________________________________________________________________________________________\n",
      "model_10 (Model)                (None, 16, 16, 3)    5280        input_5[0][0]                    \n",
      "                                                                 input_1[0][0]                    \n",
      "__________________________________________________________________________________________________\n",
      "model_14 (Model)                (None, 32, 32, 3)    96          model_10[2][0]                   \n",
      "==================================================================================================\n",
      "Total params: 5,376\n",
      "Trainable params: 270\n",
      "Non-trainable params: 5,106\n",
      "__________________________________________________________________________________________________\n"
     ]
    }
   ],
   "source": [
    "discriminator.trainable = True\n",
    "discriminator.compile(loss='binary_crossentropy', \n",
    "                      optimizer=optimizer,\n",
    "                      metrics=['accuracy'])\n",
    "\n",
    "# The generator takes noise as input and generates imgs\n",
    "#noise_input = Input(shape=[noise_size])\n",
    "current_generator_model.trainable = True\n",
    "img = current_generator_model([noise_input, in_features])\n",
    "\n",
    "# For the combined model we will only train the generator\n",
    "discriminator.trainable = False\n",
    "\n",
    "# The discriminator takes generated images as input and determines validity\n",
    "valid = discriminator([img, in_features])\n",
    "\n",
    "# The combined model  (stacked generator and discriminator)\n",
    "# Trains the generator to fool the discriminator\n",
    "combined = Model([noise_input, in_features], valid)\n",
    "combined.compile(loss='binary_crossentropy', optimizer=optimizer)"
   ]
  },
  {
   "cell_type": "code",
   "execution_count": null,
   "metadata": {},
   "outputs": [],
   "source": [
    "d_loss_hist, g_loss_hist = train_gan(discriminator, current_generator_model, combined, epochs=epochs, batches_per_epoch=batches_per_epoch)\n",
    "plot_history(d_loss_hist, g_loss_hist)"
   ]
  },
  {
   "cell_type": "code",
   "execution_count": null,
   "metadata": {},
   "outputs": [],
   "source": [
    "current_generator_model.save('generator_model_step%d.h5' %step)\n",
    "discriminator_classifier.save('discriminator_classifier_step%d.h5' %step)\n",
    "current_discriminator_cnn.save('current_discriminator_cnn_step%d.h5' %step)"
   ]
  }
 ],
 "metadata": {
  "kernelspec": {
   "display_name": "Python 3",
   "language": "python",
   "name": "python3"
  },
  "language_info": {
   "codemirror_mode": {
    "name": "ipython",
    "version": 3
   },
   "file_extension": ".py",
   "mimetype": "text/x-python",
   "name": "python",
   "nbconvert_exporter": "python",
   "pygments_lexer": "ipython3",
   "version": "3.6.6"
  }
 },
 "nbformat": 4,
 "nbformat_minor": 2
}
